{
 "cells": [
  {
   "cell_type": "code",
   "execution_count": 1,
   "metadata": {},
   "outputs": [],
   "source": [
    "import pandas as pd\n",
    "import gensim\n",
    "import pickle\n",
    "import sys\n",
    "\n",
    "sys.path.append(\"Job Tag Classifier Tools\")\n",
    "from Pipeline import tag_decoder\n",
    "from DataCollection import remove_unwanted_rows\n",
    "from FeatureCreation import aggregate_job_tag_rows\n",
    "from FeatureProcessing import clean_text, strip_text, stem_text, target_encoder"
   ]
  },
  {
   "cell_type": "markdown",
   "metadata": {},
   "source": [
    "# Model Training"
   ]
  },
  {
   "cell_type": "code",
   "execution_count": 7,
   "metadata": {},
   "outputs": [],
   "source": [
    "df = pd.read_csv(\"/Volumes/SD.Card/ML_Data/Cutback/big_bertha.csv\")"
   ]
  },
  {
   "cell_type": "code",
   "execution_count": 8,
   "metadata": {},
   "outputs": [],
   "source": [
    "df = remove_unwanted_rows(df)\n",
    "df = aggregate_job_tag_rows(df)\n",
    "df = clean_text(df)\n",
    "df = strip_text(df)\n",
    "y = target_encoder(df)"
   ]
  },
  {
   "cell_type": "code",
   "execution_count": 9,
   "metadata": {},
   "outputs": [],
   "source": [
    "def preprocess_strings(data):\n",
    "        # preprocessing step to reduce words to semi-root form\n",
    "        CUSTOM_FILTERS = [lambda x: x.lower(),\n",
    "                          gensim.parsing.preprocessing.strip_tags,\n",
    "                          gensim.parsing.preprocessing.strip_punctuation,\n",
    "                          gensim.parsing.preprocessing.strip_numeric,\n",
    "                          gensim.parsing.preprocessing.remove_stopwords,\n",
    "                          gensim.parsing.preprocessing.strip_short,\n",
    "                          gensim.parsing.preprocessing.strip_multiple_whitespaces]\n",
    "        texts = [gensim.parsing.preprocessing.preprocess_string(doc, CUSTOM_FILTERS) for doc in data]\n",
    "        return texts"
   ]
  },
  {
   "cell_type": "code",
   "execution_count": 10,
   "metadata": {},
   "outputs": [],
   "source": [
    "text = preprocess_strings(df.job_description.values)\n",
    "documents = [gensim.models.doc2vec.TaggedDocument(doc, [i]) for i, doc in enumerate(text)]"
   ]
  },
  {
   "cell_type": "code",
   "execution_count": 14,
   "metadata": {},
   "outputs": [],
   "source": [
    "model = gensim.models.doc2vec.Doc2Vec(documents, vector_size=100, window=400, epoch=1, min_count=1, workers=4)\n",
    "vocab = (set(model.wv.vocab.keys()))"
   ]
  },
  {
   "cell_type": "code",
   "execution_count": 16,
   "metadata": {},
   "outputs": [],
   "source": [
    "pickle.dump(vocab, open(\"vocab\",\"wb\"))\n",
    "model.save(\"doc2vec\")"
   ]
  },
  {
   "cell_type": "code",
   "execution_count": 18,
   "metadata": {},
   "outputs": [],
   "source": [
    "infered_vectors = [model.infer_vector(row) for row in text]"
   ]
  },
  {
   "cell_type": "markdown",
   "metadata": {},
   "source": [
    "### Train Classifier"
   ]
  },
  {
   "cell_type": "code",
   "execution_count": 28,
   "metadata": {},
   "outputs": [],
   "source": [
    "from sklearn.ensemble import RandomForestClassifier\n",
    "from sklearn.metrics import classification_report"
   ]
  },
  {
   "cell_type": "code",
   "execution_count": 19,
   "metadata": {},
   "outputs": [],
   "source": [
    "clf = RandomForestClassifier(min_samples_leaf=10)"
   ]
  },
  {
   "cell_type": "code",
   "execution_count": 20,
   "metadata": {},
   "outputs": [
    {
     "data": {
      "text/plain": [
       "RandomForestClassifier(bootstrap=True, ccp_alpha=0.0, class_weight=None,\n",
       "                       criterion='gini', max_depth=None, max_features='auto',\n",
       "                       max_leaf_nodes=None, max_samples=None,\n",
       "                       min_impurity_decrease=0.0, min_impurity_split=None,\n",
       "                       min_samples_leaf=10, min_samples_split=2,\n",
       "                       min_weight_fraction_leaf=0.0, n_estimators=100,\n",
       "                       n_jobs=None, oob_score=False, random_state=None,\n",
       "                       verbose=0, warm_start=False)"
      ]
     },
     "execution_count": 20,
     "metadata": {},
     "output_type": "execute_result"
    }
   ],
   "source": [
    "clf.fit(infered_vectors, y)"
   ]
  },
  {
   "cell_type": "code",
   "execution_count": 21,
   "metadata": {},
   "outputs": [],
   "source": [
    "pickle.dump(clf, open(\"classifier\",\"wb\"))"
   ]
  },
  {
   "cell_type": "markdown",
   "metadata": {},
   "source": [
    "#### Testing Classifier"
   ]
  },
  {
   "cell_type": "code",
   "execution_count": 22,
   "metadata": {},
   "outputs": [],
   "source": [
    "df = pd.read_csv(\"/Volumes/SD.Card/ML_Data/Cutback/job_data.csv\")"
   ]
  },
  {
   "cell_type": "code",
   "execution_count": 23,
   "metadata": {},
   "outputs": [
    {
     "name": "stderr",
     "output_type": "stream",
     "text": [
      "/Volumes/SD.Card/Anaconda/anaconda3/envs/DS/lib/python3.7/site-packages/sklearn/preprocessing/_label.py:987: UserWarning: unknown class(es) ['Internship'] will be ignored\n",
      "  .format(sorted(unknown, key=str)))\n"
     ]
    }
   ],
   "source": [
    "df = remove_unwanted_rows(df)\n",
    "df = aggregate_job_tag_rows(df)\n",
    "df = clean_text(df)\n",
    "df = strip_text(df)\n",
    "\n",
    "with open(\"target_tokens.pkl\", 'rb') as handle:\n",
    "    tokenizer = pickle.load(handle)\n",
    "y = tokenizer.transform(df.job_targets)\n",
    "\n",
    "text = preprocess_strings(df.job_description.values)"
   ]
  },
  {
   "cell_type": "code",
   "execution_count": 24,
   "metadata": {},
   "outputs": [],
   "source": [
    "infered_vectors = [model.infer_vector(row) for row in text]"
   ]
  },
  {
   "cell_type": "code",
   "execution_count": 25,
   "metadata": {},
   "outputs": [],
   "source": [
    "predictions = clf.predict(infered_vectors)"
   ]
  },
  {
   "cell_type": "code",
   "execution_count": 30,
   "metadata": {
    "collapsed": true,
    "jupyter": {
     "outputs_hidden": true
    }
   },
   "outputs": [
    {
     "name": "stdout",
     "output_type": "stream",
     "text": [
      "              precision    recall  f1-score   support\n",
      "\n",
      "           0       0.00      0.00      0.00        16\n",
      "           1       0.00      0.00      0.00       202\n",
      "           2       0.00      0.00      0.00        43\n",
      "           3       0.00      0.00      0.00         0\n",
      "           4       0.00      0.00      0.00        70\n",
      "           5       0.00      0.00      0.00         0\n",
      "           6       0.00      0.00      0.00        70\n",
      "           7       0.00      0.00      0.00        22\n",
      "           8       0.00      0.00      0.00       138\n",
      "           9       0.00      0.00      0.00        67\n",
      "          10       0.00      0.00      0.00         0\n",
      "          11       0.00      0.00      0.00         0\n",
      "          12       0.00      0.00      0.00         0\n",
      "          13       0.00      0.00      0.00         0\n",
      "          14       0.00      0.00      0.00         0\n",
      "          15       0.00      0.00      0.00         0\n",
      "          16       0.00      0.00      0.00         0\n",
      "          17       0.00      0.00      0.00         0\n",
      "          18       1.00      0.08      0.15      1155\n",
      "          19       0.00      0.00      0.00        65\n",
      "          20       1.00      0.02      0.04       138\n",
      "          21       0.00      0.00      0.00         0\n",
      "          22       0.00      0.00      0.00         0\n",
      "          23       0.71      0.21      0.32       270\n",
      "          24       0.00      0.00      0.00         0\n",
      "          25       0.69      0.99      0.81       818\n",
      "          26       0.89      1.00      0.94      1133\n",
      "          27       0.90      0.47      0.61       498\n",
      "\n",
      "   micro avg       0.81      0.50      0.61      4705\n",
      "   macro avg       0.19      0.10      0.10      4705\n",
      "weighted avg       0.74      0.50      0.49      4705\n",
      " samples avg       0.79      0.50      0.59      4705\n",
      "\n"
     ]
    }
   ],
   "source": [
    "print(classification_report(y,predictions))"
   ]
  },
  {
   "cell_type": "markdown",
   "metadata": {},
   "source": [
    "# Model Inference"
   ]
  },
  {
   "cell_type": "code",
   "execution_count": 31,
   "metadata": {},
   "outputs": [],
   "source": [
    "test_event = \"Hello my name is Matt and this is the second time that i am typing this statement.\", \"None\""
   ]
  },
  {
   "cell_type": "code",
   "execution_count": 32,
   "metadata": {},
   "outputs": [],
   "source": [
    "df = pd.DataFrame(columns=[\"job_description\",\"job_title\"], data = [test_event])"
   ]
  },
  {
   "cell_type": "code",
   "execution_count": 33,
   "metadata": {},
   "outputs": [],
   "source": [
    "df = remove_unwanted_rows(df)\n",
    "df = clean_text(df)\n",
    "df = strip_text(df)"
   ]
  },
  {
   "cell_type": "code",
   "execution_count": 34,
   "metadata": {},
   "outputs": [],
   "source": [
    "def preprocess_strings(data):\n",
    "        # preprocessing step to reduce words to semi-root form\n",
    "        CUSTOM_FILTERS = [lambda x: x.lower(),\n",
    "                          gensim.parsing.preprocessing.strip_tags,\n",
    "                          gensim.parsing.preprocessing.strip_punctuation,\n",
    "                          gensim.parsing.preprocessing.strip_numeric,\n",
    "                          gensim.parsing.preprocessing.remove_stopwords,\n",
    "                          gensim.parsing.preprocessing.strip_short,\n",
    "                          gensim.parsing.preprocessing.strip_multiple_whitespaces]\n",
    "        texts = [gensim.parsing.preprocessing.preprocess_string(doc, CUSTOM_FILTERS) for doc in data]\n",
    "        return texts"
   ]
  },
  {
   "cell_type": "code",
   "execution_count": 35,
   "metadata": {},
   "outputs": [],
   "source": [
    "text = preprocess_strings(df.job_description.values)"
   ]
  },
  {
   "cell_type": "markdown",
   "metadata": {},
   "source": [
    "#### Load Models and Vocab"
   ]
  },
  {
   "cell_type": "code",
   "execution_count": 36,
   "metadata": {},
   "outputs": [],
   "source": [
    "model = gensim.models.doc2vec.Doc2Vec.load(\"doc2vec\")\n",
    "with (open(\"vocab\", \"rb\")) as f:\n",
    "    vocab = pickle.load(f)\n",
    "with open(\"target_tokens.pkl\", 'rb') as handle:\n",
    "    tokenizer = pickle.load(handle)"
   ]
  },
  {
   "cell_type": "code",
   "execution_count": 37,
   "metadata": {},
   "outputs": [],
   "source": [
    "event = [word for word in text[0] if word in vocab]"
   ]
  },
  {
   "cell_type": "code",
   "execution_count": 38,
   "metadata": {},
   "outputs": [],
   "source": [
    "list_of_indices = clf.predict([model.infer_vector(event)])"
   ]
  },
  {
   "cell_type": "markdown",
   "metadata": {},
   "source": [
    "#### Decode Targets"
   ]
  },
  {
   "cell_type": "code",
   "execution_count": 39,
   "metadata": {},
   "outputs": [],
   "source": [
    "target = []\n",
    "for i, num in enumerate(list_of_indices[0]):\n",
    "    if num > .5:\n",
    "        target.append(str(tokenizer.classes_[i]))"
   ]
  },
  {
   "cell_type": "code",
   "execution_count": 40,
   "metadata": {},
   "outputs": [
    {
     "data": {
      "text/plain": [
       "['Software', 'Tech']"
      ]
     },
     "execution_count": 40,
     "metadata": {},
     "output_type": "execute_result"
    }
   ],
   "source": [
    "target"
   ]
  },
  {
   "cell_type": "code",
   "execution_count": 41,
   "metadata": {},
   "outputs": [
    {
     "data": {
      "text/plain": [
       "array(['Angular', 'Backend', 'Customer Service', 'Database', 'Designer',\n",
       "       'DynamoDB', 'Express.js', 'Flask', 'Frontend', 'Full-Stack',\n",
       "       'Hardware', 'MSSQL', 'Management', 'Marketing', 'MongoDB', 'MySQL',\n",
       "       'NoSQL', 'PostgreSQL', 'Product Manager', 'React', 'Recruiting',\n",
       "       'Redis', 'SQL', 'Sales', 'Social Media', 'Software', 'Tech', 'Web'],\n",
       "      dtype=object)"
      ]
     },
     "execution_count": 41,
     "metadata": {},
     "output_type": "execute_result"
    }
   ],
   "source": [
    "tokenizer.classes_"
   ]
  },
  {
   "cell_type": "code",
   "execution_count": null,
   "metadata": {},
   "outputs": [],
   "source": []
  }
 ],
 "metadata": {
  "kernelspec": {
   "display_name": "DS",
   "language": "python",
   "name": "ds"
  },
  "language_info": {
   "codemirror_mode": {
    "name": "ipython",
    "version": 3
   },
   "file_extension": ".py",
   "mimetype": "text/x-python",
   "name": "python",
   "nbconvert_exporter": "python",
   "pygments_lexer": "ipython3",
   "version": "3.7.7"
  }
 },
 "nbformat": 4,
 "nbformat_minor": 4
}
